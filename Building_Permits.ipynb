{
 "cells": [
  {
   "cell_type": "code",
   "execution_count": 44,
   "id": "sustainable-offset",
   "metadata": {},
   "outputs": [],
   "source": [
    "import pandas as pd\n",
    "import datetime as dt\n",
    "import numpy as np\n",
    "import matplotlib.pyplot as plt"
   ]
  },
  {
   "cell_type": "code",
   "execution_count": 45,
   "id": "subject-material",
   "metadata": {},
   "outputs": [
    {
     "name": "stderr",
     "output_type": "stream",
     "text": [
      "C:\\Users\\Michael\\anaconda3\\envs\\vis\\lib\\site-packages\\IPython\\core\\interactiveshell.py:3156: DtypeWarning: Columns (1,49,54,55,56,57,58,59,60,61,62,63,64,65,66,67,68,69,70,71,72,73,74,75,76,77,78,79,80,81,82,83,84,85,86,87,88,89,90,91,92,93,94,95,96,97,98) have mixed types.Specify dtype option on import or set low_memory=False.\n",
      "  interactivity=interactivity, compiler=compiler, result=result)\n"
     ]
    }
   ],
   "source": [
    "df = pd.read_csv('building-permits.csv', parse_dates=['APPLICATION_START_DATE','ISSUE_DATE'])#, usecols = [0,1])#, skiprows = [606387,606391])"
   ]
  },
  {
   "cell_type": "markdown",
   "id": "labeled-headline",
   "metadata": {},
   "source": [
    "Lets Look at the import for some basic investigation, Are our important columns workable?"
   ]
  },
  {
   "cell_type": "code",
   "execution_count": 46,
   "id": "listed-desire",
   "metadata": {},
   "outputs": [
    {
     "name": "stdout",
     "output_type": "stream",
     "text": [
      "0   2014-03-04\n",
      "1   2013-12-19\n",
      "Name: ISSUE_DATE, dtype: datetime64[ns]\n",
      "0   2014-02-24\n",
      "1   2013-11-18\n",
      "Name: APPLICATION_START_DATE, dtype: datetime64[ns]\n",
      "(606390, 125)\n"
     ]
    }
   ],
   "source": [
    "print(df.iloc[0:2,5])\n",
    "print(df.iloc[0:2,4])\n",
    "print(df.shape)"
   ]
  },
  {
   "cell_type": "code",
   "execution_count": 47,
   "id": "nonprofit-confidence",
   "metadata": {},
   "outputs": [
    {
     "name": "stderr",
     "output_type": "stream",
     "text": [
      "C:\\Users\\Michael\\anaconda3\\envs\\vis\\lib\\site-packages\\ipykernel_launcher.py:1: FutureWarning: Treating datetime data as categorical rather than numeric in `.describe` is deprecated and will be removed in a future version of pandas. Specify `datetime_is_numeric=True` to silence this warning and adopt the future behavior now.\n",
      "  \"\"\"Entry point for launching an IPython kernel.\n"
     ]
    },
    {
     "data": {
      "text/plain": [
       "count                  605890\n",
       "unique                   5638\n",
       "top       2019-08-01 00:00:00\n",
       "freq                      457\n",
       "first     2001-07-25 00:00:00\n",
       "last      2019-12-04 00:00:00\n",
       "Name: APPLICATION_START_DATE, dtype: object"
      ]
     },
     "execution_count": 47,
     "metadata": {},
     "output_type": "execute_result"
    }
   ],
   "source": [
    "df['APPLICATION_START_DATE'].describe()"
   ]
  },
  {
   "cell_type": "code",
   "execution_count": 48,
   "id": "private-headquarters",
   "metadata": {},
   "outputs": [
    {
     "name": "stdout",
     "output_type": "stream",
     "text": [
      "<class 'pandas.core.frame.DataFrame'>\n",
      "RangeIndex: 606390 entries, 0 to 606389\n",
      "Columns: 125 entries, ID to :@computed_region_awaf_s7ux\n",
      "dtypes: datetime64[ns](2), float64(28), int64(3), object(92)\n",
      "memory usage: 578.3+ MB\n"
     ]
    }
   ],
   "source": [
    "df.info()"
   ]
  },
  {
   "cell_type": "markdown",
   "id": "horizontal-marketing",
   "metadata": {},
   "source": [
    "Let's create a new column with the time required to get building permit issued."
   ]
  },
  {
   "cell_type": "code",
   "execution_count": 49,
   "id": "premium-assets",
   "metadata": {},
   "outputs": [
    {
     "data": {
      "text/plain": [
       "0          8 days\n",
       "1         31 days\n",
       "2         31 days\n",
       "3          0 days\n",
       "4          0 days\n",
       "           ...   \n",
       "606385   699 days\n",
       "606386     0 days\n",
       "606387     0 days\n",
       "606388     0 days\n",
       "606389     0 days\n",
       "Name: PROCESSING_TIME, Length: 606390, dtype: timedelta64[ns]"
      ]
     },
     "execution_count": 49,
     "metadata": {},
     "output_type": "execute_result"
    }
   ],
   "source": [
    "df['PROCESSING_TIME'] = df['ISSUE_DATE'] - df['APPLICATION_START_DATE']\n",
    "df['PROCESSING_TIME']"
   ]
  },
  {
   "cell_type": "markdown",
   "id": "living-petite",
   "metadata": {},
   "source": [
    "The first data cleaning issue I have found is that we have rows withnegative time which cannot occur, I will remove them.\n",
    "I believe there is more to clean but this will do for my preliminary result"
   ]
  },
  {
   "cell_type": "code",
   "execution_count": 50,
   "id": "enclosed-student",
   "metadata": {},
   "outputs": [
    {
     "name": "stdout",
     "output_type": "stream",
     "text": [
      "-2876 days +00:00:00\n"
     ]
    }
   ],
   "source": [
    "print(min(df['PROCESSING_TIME']))"
   ]
  },
  {
   "cell_type": "code",
   "execution_count": 51,
   "id": "signal-winter",
   "metadata": {},
   "outputs": [
    {
     "data": {
      "text/html": [
       "<div>\n",
       "<style scoped>\n",
       "    .dataframe tbody tr th:only-of-type {\n",
       "        vertical-align: middle;\n",
       "    }\n",
       "\n",
       "    .dataframe tbody tr th {\n",
       "        vertical-align: top;\n",
       "    }\n",
       "\n",
       "    .dataframe thead th {\n",
       "        text-align: right;\n",
       "    }\n",
       "</style>\n",
       "<table border=\"1\" class=\"dataframe\">\n",
       "  <thead>\n",
       "    <tr style=\"text-align: right;\">\n",
       "      <th></th>\n",
       "      <th>APPLICATION_START_DATE</th>\n",
       "      <th>ISSUE_DATE</th>\n",
       "      <th>PROCESSING_TIME</th>\n",
       "    </tr>\n",
       "  </thead>\n",
       "  <tbody>\n",
       "    <tr>\n",
       "      <th>0</th>\n",
       "      <td>2014-02-24</td>\n",
       "      <td>2014-03-04</td>\n",
       "      <td>8 days</td>\n",
       "    </tr>\n",
       "    <tr>\n",
       "      <th>1</th>\n",
       "      <td>2013-11-18</td>\n",
       "      <td>2013-12-19</td>\n",
       "      <td>31 days</td>\n",
       "    </tr>\n",
       "    <tr>\n",
       "      <th>2</th>\n",
       "      <td>2013-11-18</td>\n",
       "      <td>2013-12-19</td>\n",
       "      <td>31 days</td>\n",
       "    </tr>\n",
       "    <tr>\n",
       "      <th>3</th>\n",
       "      <td>2017-01-25</td>\n",
       "      <td>2017-01-25</td>\n",
       "      <td>0 days</td>\n",
       "    </tr>\n",
       "    <tr>\n",
       "      <th>4</th>\n",
       "      <td>2007-02-15</td>\n",
       "      <td>2007-02-15</td>\n",
       "      <td>0 days</td>\n",
       "    </tr>\n",
       "  </tbody>\n",
       "</table>\n",
       "</div>"
      ],
      "text/plain": [
       "  APPLICATION_START_DATE ISSUE_DATE PROCESSING_TIME\n",
       "0             2014-02-24 2014-03-04          8 days\n",
       "1             2013-11-18 2013-12-19         31 days\n",
       "2             2013-11-18 2013-12-19         31 days\n",
       "3             2017-01-25 2017-01-25          0 days\n",
       "4             2007-02-15 2007-02-15          0 days"
      ]
     },
     "execution_count": 51,
     "metadata": {},
     "output_type": "execute_result"
    }
   ],
   "source": [
    "df =  df[['APPLICATION_START_DATE','ISSUE_DATE', 'PROCESSING_TIME']]\n",
    "df.head()"
   ]
  },
  {
   "cell_type": "code",
   "execution_count": 52,
   "id": "acute-assignment",
   "metadata": {},
   "outputs": [
    {
     "data": {
      "text/plain": [
       "APPLICATION_START_DATE     datetime64[ns]\n",
       "ISSUE_DATE                 datetime64[ns]\n",
       "PROCESSING_TIME           timedelta64[ns]\n",
       "dtype: object"
      ]
     },
     "execution_count": 52,
     "metadata": {},
     "output_type": "execute_result"
    }
   ],
   "source": [
    "df.dtypes"
   ]
  },
  {
   "cell_type": "code",
   "execution_count": 53,
   "id": "adult-virtue",
   "metadata": {},
   "outputs": [
    {
     "data": {
      "text/html": [
       "<div>\n",
       "<style scoped>\n",
       "    .dataframe tbody tr th:only-of-type {\n",
       "        vertical-align: middle;\n",
       "    }\n",
       "\n",
       "    .dataframe tbody tr th {\n",
       "        vertical-align: top;\n",
       "    }\n",
       "\n",
       "    .dataframe thead th {\n",
       "        text-align: right;\n",
       "    }\n",
       "</style>\n",
       "<table border=\"1\" class=\"dataframe\">\n",
       "  <thead>\n",
       "    <tr style=\"text-align: right;\">\n",
       "      <th></th>\n",
       "      <th>APPLICATION_START_DATE</th>\n",
       "      <th>ISSUE_DATE</th>\n",
       "      <th>PROCESSING_TIME</th>\n",
       "    </tr>\n",
       "  </thead>\n",
       "  <tbody>\n",
       "    <tr>\n",
       "      <th>0</th>\n",
       "      <td>2014-02-24</td>\n",
       "      <td>2014-03-04</td>\n",
       "      <td>8 days</td>\n",
       "    </tr>\n",
       "    <tr>\n",
       "      <th>1</th>\n",
       "      <td>2013-11-18</td>\n",
       "      <td>2013-12-19</td>\n",
       "      <td>31 days</td>\n",
       "    </tr>\n",
       "    <tr>\n",
       "      <th>2</th>\n",
       "      <td>2013-11-18</td>\n",
       "      <td>2013-12-19</td>\n",
       "      <td>31 days</td>\n",
       "    </tr>\n",
       "    <tr>\n",
       "      <th>3</th>\n",
       "      <td>2017-01-25</td>\n",
       "      <td>2017-01-25</td>\n",
       "      <td>0 days</td>\n",
       "    </tr>\n",
       "    <tr>\n",
       "      <th>4</th>\n",
       "      <td>2007-02-15</td>\n",
       "      <td>2007-02-15</td>\n",
       "      <td>0 days</td>\n",
       "    </tr>\n",
       "    <tr>\n",
       "      <th>...</th>\n",
       "      <td>...</td>\n",
       "      <td>...</td>\n",
       "      <td>...</td>\n",
       "    </tr>\n",
       "    <tr>\n",
       "      <th>606385</th>\n",
       "      <td>2004-06-18</td>\n",
       "      <td>2006-05-18</td>\n",
       "      <td>699 days</td>\n",
       "    </tr>\n",
       "    <tr>\n",
       "      <th>606386</th>\n",
       "      <td>2018-11-29</td>\n",
       "      <td>2018-11-29</td>\n",
       "      <td>0 days</td>\n",
       "    </tr>\n",
       "    <tr>\n",
       "      <th>606387</th>\n",
       "      <td>2015-05-20</td>\n",
       "      <td>2015-05-20</td>\n",
       "      <td>0 days</td>\n",
       "    </tr>\n",
       "    <tr>\n",
       "      <th>606388</th>\n",
       "      <td>2018-08-06</td>\n",
       "      <td>2018-08-06</td>\n",
       "      <td>0 days</td>\n",
       "    </tr>\n",
       "    <tr>\n",
       "      <th>606389</th>\n",
       "      <td>2010-02-16</td>\n",
       "      <td>2010-02-16</td>\n",
       "      <td>0 days</td>\n",
       "    </tr>\n",
       "  </tbody>\n",
       "</table>\n",
       "<p>605814 rows × 3 columns</p>\n",
       "</div>"
      ],
      "text/plain": [
       "       APPLICATION_START_DATE ISSUE_DATE PROCESSING_TIME\n",
       "0                  2014-02-24 2014-03-04          8 days\n",
       "1                  2013-11-18 2013-12-19         31 days\n",
       "2                  2013-11-18 2013-12-19         31 days\n",
       "3                  2017-01-25 2017-01-25          0 days\n",
       "4                  2007-02-15 2007-02-15          0 days\n",
       "...                       ...        ...             ...\n",
       "606385             2004-06-18 2006-05-18        699 days\n",
       "606386             2018-11-29 2018-11-29          0 days\n",
       "606387             2015-05-20 2015-05-20          0 days\n",
       "606388             2018-08-06 2018-08-06          0 days\n",
       "606389             2010-02-16 2010-02-16          0 days\n",
       "\n",
       "[605814 rows x 3 columns]"
      ]
     },
     "execution_count": 53,
     "metadata": {},
     "output_type": "execute_result"
    }
   ],
   "source": [
    "df = df[df['PROCESSING_TIME'] >= dt.timedelta(days=0)]\n",
    "df"
   ]
  },
  {
   "cell_type": "code",
   "execution_count": 54,
   "id": "expensive-terminal",
   "metadata": {},
   "outputs": [
    {
     "data": {
      "text/plain": [
       "Timedelta('0 days 00:00:00')"
      ]
     },
     "execution_count": 54,
     "metadata": {},
     "output_type": "execute_result"
    }
   ],
   "source": [
    "min(df['PROCESSING_TIME'])  # negative values removed"
   ]
  },
  {
   "cell_type": "markdown",
   "id": "fifteen-paradise",
   "metadata": {},
   "source": [
    "Now I can group this by dates and look at the data soon.  I am using an aggregate function looking at each application start date.  I am fining the mean processing time if a project was submitted on eachc day."
   ]
  },
  {
   "cell_type": "code",
   "execution_count": 55,
   "id": "boring-century",
   "metadata": {},
   "outputs": [
    {
     "data": {
      "text/plain": [
       "APPLICATION_START_DATE\n",
       "2001-07-25          2162 days 00:00:00\n",
       "2001-07-26          2172 days 00:00:00\n",
       "2001-07-27          2171 days 00:00:00\n",
       "2001-07-30          2168 days 00:00:00\n",
       "2001-07-31          2231 days 00:00:00\n",
       "                        ...           \n",
       "2019-11-29             0 days 00:00:00\n",
       "2019-11-30             0 days 00:00:00\n",
       "2019-12-02   0 days 04:37:53.684210526\n",
       "2019-12-03   0 days 02:17:29.246231155\n",
       "2019-12-04             0 days 00:00:00\n",
       "Name: PROCESSING_TIME, Length: 5638, dtype: timedelta64[ns]"
      ]
     },
     "execution_count": 55,
     "metadata": {},
     "output_type": "execute_result"
    }
   ],
   "source": [
    "# df = df.groupby('APPLICATION_START_DATE')['PROCESSING_TIME'].mean(numeric_only=False)\n",
    "# df\n",
    "\n",
    "S = df.groupby('APPLICATION_START_DATE')['PROCESSING_TIME'].mean(numeric_only=False)\n",
    "S\n"
   ]
  },
  {
   "cell_type": "code",
   "execution_count": 56,
   "id": "designing-martin",
   "metadata": {},
   "outputs": [
    {
     "data": {
      "text/plain": [
       "count                           5638\n",
       "mean     138 days 23:56:16.241617788\n",
       "std      422 days 01:26:53.776888880\n",
       "min                  0 days 00:00:00\n",
       "25%        7 days 04:52:14.117647058\n",
       "50%       14 days 03:56:34.162335065\n",
       "75%       25 days 06:37:45.769320027\n",
       "max               4114 days 00:00:00\n",
       "Name: PROCESSING_TIME, dtype: object"
      ]
     },
     "execution_count": 56,
     "metadata": {},
     "output_type": "execute_result"
    }
   ],
   "source": [
    "S.describe()"
   ]
  },
  {
   "cell_type": "code",
   "execution_count": 77,
   "id": "funded-scott",
   "metadata": {},
   "outputs": [
    {
     "data": {
      "image/png": "[encoded data removed]",
      "text/plain": [
       "<Figure size 432x288 with 1 Axes>"
      ]
     },
     "metadata": {
      "needs_background": "light"
     },
     "output_type": "display_data"
    }
   ],
   "source": [
    "# p = plt.plot(S.index, S.values)\n",
    "plt.plot_date(S.index, S.values,markersize=2)\n",
    "plt.show()"
   ]
  },
  {
   "cell_type": "markdown",
   "id": "resistant-workplace",
   "metadata": {},
   "source": [
    "looking at this we can gain some information, I would like to put a regression line on this\n",
    "My initial hypothesis was that permit processing time is increasing over time, looks to be untrue.\n",
    "What I do see that we can refine later to get a clearer picture\n",
    "   1  Looks like there was a change in 2008, not suprising\n",
    "   2  My guess is that the type of projects changed, many more over the counter permits for solar panels etc\n",
    "       and less for building construction, get lots of zeros in the data.\n",
    "   3  It is odd that in pre 2008 years, there is a clear line in the data, how could that be?"
   ]
  },
  {
   "cell_type": "code",
   "execution_count": 85,
   "id": "express-friend",
   "metadata": {},
   "outputs": [
    {
     "name": "stdout",
     "output_type": "stream",
     "text": [
      "1\n",
      "[-5.86082569e-04  4.43220456e+00]\n"
     ]
    },
    {
     "data": {
      "image/png": "[encoded data removed]",
      "text/plain": [
       "<Figure size 432x288 with 1 Axes>"
      ]
     },
     "metadata": {
      "needs_background": "light"
     },
     "output_type": "display_data"
    }
   ],
   "source": [
    "index2 = range(0,5638)\n",
    "data2 = (S.values / np.timedelta64(1, 'D')).astype(int)\n",
    "data2 += 1\n",
    "S2 = pd.Series(index=index2, data=data2)\n",
    "\n",
    "# I have all numbers in this Series S2 now\n",
    "# I want to add one to all values  <--------------DONE\n",
    "print(min(S2.values))\n",
    "\n",
    "# Now do some curve fitting\n",
    "fit = np.polyfit(S2.index, np.log(S2.values), 1)\n",
    "print(fit)\n",
    "\n",
    "\n",
    "# Plotting\n",
    "plt.plot_date(S.index, S2.values,markersize=2)\n",
    "plt.plot(S.index, np.exp(fit[1]) * (np.exp(fit[0])**S2.index) )\n",
    "plt.show()\n",
    "\n",
    "# That curve I fitted does not look very good, I am rushing.  Leave it for now,\n",
    "# I have more data work that is more important now."
   ]
  },
  {
   "cell_type": "markdown",
   "id": "responsible-unknown",
   "metadata": {},
   "source": [
    "My task is to fix this before I send it to Eleanor,  I am trying to do an exponential regression, but I have zeros in my response (Processing_time).  I will add 1 to each value to remove any zeros and see what happens, seems janky but will get something."
   ]
  },
  {
   "cell_type": "code",
   "execution_count": 73,
   "id": "exciting-product",
   "metadata": {},
   "outputs": [
    {
     "name": "stdout",
     "output_type": "stream",
     "text": [
      "[-0.23106309  5.54553313]\n"
     ]
    },
    {
     "data": {
      "image/png": "[encoded data removed]",
      "text/plain": [
       "<Figure size 432x288 with 1 Axes>"
      ]
     },
     "metadata": {
      "needs_background": "light"
     },
     "output_type": "display_data"
    }
   ],
   "source": [
    "#------------------------------------------  Example Exponential Regression\n",
    "day = np.arange(0,8)\n",
    "weight = np.array([251,209,157,129,103,81,66,49])\n",
    "fit = np.polyfit(day, np.log(weight), 1)\n",
    "print(fit)\n",
    "plt.scatter(day,weight,label='Weight change')\n",
    "\n",
    "plt.plot(day, np.exp(fit[1]) * (np.exp(fit[0])**day) )\n",
    "plt.title(\"Day vs Weight\")\n",
    "plt.xlabel('Day')\n",
    "plt.ylabel('Weight')\n",
    "plt.legend()\n",
    "plt.show()"
   ]
  }
 ],
 "metadata": {
  "kernelspec": {
   "display_name": "Python 3",
   "language": "python",
   "name": "python3"
  },
  "language_info": {
   "codemirror_mode": {
    "name": "ipython",
    "version": 3
   },
   "file_extension": ".py",
   "mimetype": "text/x-python",
   "name": "python",
   "nbconvert_exporter": "python",
   "pygments_lexer": "ipython3",
   "version": "3.7.1"
  }
 },
 "nbformat": 4,
 "nbformat_minor": 5
}
