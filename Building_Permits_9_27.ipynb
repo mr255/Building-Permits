{
 "cells": [
  {
   "cell_type": "code",
   "execution_count": 28,
   "id": "sustainable-offset",
   "metadata": {
    "scrolled": true
   },
   "outputs": [],
   "source": [
    "import pandas as pd\n",
    "import datetime as dt\n",
    "import numpy as np\n",
    "import matplotlib.pyplot as plt"
   ]
  },
  {
   "cell_type": "code",
   "execution_count": 29,
   "id": "typical-summer",
   "metadata": {
    "scrolled": true
   },
   "outputs": [
    {
     "name": "stderr",
     "output_type": "stream",
     "text": [
      "C:\\Users\\Mike\\anaconda3\\envs\\vis\\lib\\site-packages\\IPython\\core\\interactiveshell.py:3072: DtypeWarning: Columns (1,49,54,55,56,57,58,59,60,61,62,63,64,65,66,67,68,69,70,71,72,73,74,75,76,77,78,79,80,81,82,83,84,85,86,87,88,89,90,91,92,93,94,95,96,97,98) have mixed types.Specify dtype option on import or set low_memory=False.\n",
      "  interactivity=interactivity, compiler=compiler, result=result)\n"
     ]
    }
   ],
   "source": [
    "df = pd.read_csv('building-permits.csv')"
   ]
  },
  {
   "cell_type": "markdown",
   "id": "assigned-translator",
   "metadata": {},
   "source": [
    "First I will create a Series I will be using to look at this dataset as a whole, then drop many columns for the dataset I will be using after"
   ]
  },
  {
   "cell_type": "code",
   "execution_count": 30,
   "id": "congressional-alaska",
   "metadata": {
    "scrolled": true
   },
   "outputs": [
    {
     "data": {
      "text/plain": [
       "count    605890.000000\n",
       "mean         22.760904\n",
       "std         109.024726\n",
       "min       -2876.000000\n",
       "25%           0.000000\n",
       "50%           0.000000\n",
       "75%           8.000000\n",
       "max        4770.000000\n",
       "Name: PROCESSING_TIME, dtype: float64"
      ]
     },
     "execution_count": 30,
     "metadata": {},
     "output_type": "execute_result"
    }
   ],
   "source": [
    "S = pd.Series(data=df['PROCESSING_TIME'])\n",
    "S.describe()"
   ]
  },
  {
   "cell_type": "code",
   "execution_count": 31,
   "id": "worst-thunder",
   "metadata": {
    "scrolled": true
   },
   "outputs": [
    {
     "name": "stdout",
     "output_type": "stream",
     "text": [
      "['ID', 'PERMIT#', 'PERMIT_TYPE', 'REVIEW_TYPE', 'APPLICATION_START_DATE', 'ISSUE_DATE', 'PROCESSING_TIME', 'STREET_NUMBER', 'STREET DIRECTION', 'STREET_NAME', 'SUFFIX', 'WORK_DESCRIPTION', 'BUILDING_FEE_PAID', 'ZONING_FEE_PAID', 'OTHER_FEE_PAID', 'SUBTOTAL_PAID', 'BUILDING_FEE_UNPAID', 'ZONING_FEE_UNPAID', 'OTHER_FEE_UNPAID', 'SUBTOTAL_UNPAID', 'BUILDING_FEE_WAIVED', 'ZONING_FEE_WAIVED', 'OTHER_FEE_WAIVED', 'SUBTOTAL_WAIVED', 'TOTAL_FEE', 'CONTACT_1_TYPE', 'CONTACT_1_NAME', 'CONTACT_1_CITY', 'CONTACT_1_STATE', 'CONTACT_1_ZIPCODE', 'CONTACT_2_TYPE', 'CONTACT_2_NAME', 'CONTACT_2_CITY', 'CONTACT_2_STATE', 'CONTACT_2_ZIPCODE', 'CONTACT_3_TYPE', 'CONTACT_3_NAME', 'CONTACT_3_CITY', 'CONTACT_3_STATE', 'CONTACT_3_ZIPCODE', 'CONTACT_4_TYPE', 'CONTACT_4_NAME', 'CONTACT_4_CITY', 'CONTACT_4_STATE', 'CONTACT_4_ZIPCODE', 'CONTACT_5_TYPE', 'CONTACT_5_NAME', 'CONTACT_5_CITY', 'CONTACT_5_STATE', 'CONTACT_5_ZIPCODE', 'CONTACT_6_TYPE', 'CONTACT_6_NAME', 'CONTACT_6_CITY', 'CONTACT_6_STATE', 'CONTACT_6_ZIPCODE', 'CONTACT_7_TYPE', 'CONTACT_7_NAME', 'CONTACT_7_CITY', 'CONTACT_7_STATE', 'CONTACT_7_ZIPCODE', 'CONTACT_8_TYPE', 'CONTACT_8_NAME', 'CONTACT_8_CITY', 'CONTACT_8_STATE', 'CONTACT_8_ZIPCODE', 'CONTACT_9_TYPE', 'CONTACT_9_NAME', 'CONTACT_9_CITY', 'CONTACT_9_STATE', 'CONTACT_9_ZIPCODE', 'CONTACT_10_TYPE', 'CONTACT_10_NAME', 'CONTACT_10_CITY', 'CONTACT_10_STATE', 'CONTACT_10_ZIPCODE', 'CONTACT_11_TYPE', 'CONTACT_11_NAME', 'CONTACT_11_CITY', 'CONTACT_11_STATE', 'CONTACT_11_ZIPCODE', 'CONTACT_12_TYPE', 'CONTACT_12_NAME', 'CONTACT_12_CITY', 'CONTACT_12_STATE', 'CONTACT_12_ZIPCODE', 'CONTACT_13_TYPE', 'CONTACT_13_NAME', 'CONTACT_13_CITY', 'CONTACT_13_STATE', 'CONTACT_13_ZIPCODE', 'CONTACT_14_TYPE', 'CONTACT_14_NAME', 'CONTACT_14_CITY', 'CONTACT_14_STATE', 'CONTACT_14_ZIPCODE', 'CONTACT_15_TYPE', 'CONTACT_15_NAME', 'CONTACT_15_CITY', 'CONTACT_15_STATE', 'CONTACT_15_ZIPCODE', 'REPORTED_COST', 'PIN1', 'PIN2', 'PIN3', 'PIN4', 'PIN5', 'PIN6', 'PIN7', 'PIN8', 'PIN9', 'PIN10', 'COMMUNITY_AREA', 'CENSUS_TRACT', 'WARD', 'XCOORDINATE', 'YCOORDINATE', 'LATITUDE', 'LONGITUDE', 'LOCATION', 'Boundaries - ZIP Codes', 'Community Areas', 'Zip Codes', 'Census Tracts', 'Wards', ':@computed_region_awaf_s7ux']\n"
     ]
    }
   ],
   "source": [
    "col = df.columns\n",
    "print(col.to_list())"
   ]
  },
  {
   "cell_type": "code",
   "execution_count": 32,
   "id": "fitting-spectrum",
   "metadata": {
    "scrolled": true
   },
   "outputs": [
    {
     "data": {
      "text/html": [
       "<div>\n",
       "<style scoped>\n",
       "    .dataframe tbody tr th:only-of-type {\n",
       "        vertical-align: middle;\n",
       "    }\n",
       "\n",
       "    .dataframe tbody tr th {\n",
       "        vertical-align: top;\n",
       "    }\n",
       "\n",
       "    .dataframe thead th {\n",
       "        text-align: right;\n",
       "    }\n",
       "</style>\n",
       "<table border=\"1\" class=\"dataframe\">\n",
       "  <thead>\n",
       "    <tr style=\"text-align: right;\">\n",
       "      <th></th>\n",
       "      <th>PERMIT_TYPE</th>\n",
       "      <th>REVIEW_TYPE</th>\n",
       "      <th>APPLICATION_START_DATE</th>\n",
       "      <th>PROCESSING_TIME</th>\n",
       "    </tr>\n",
       "  </thead>\n",
       "  <tbody>\n",
       "    <tr>\n",
       "      <th>0</th>\n",
       "      <td>PERMIT - SIGNS</td>\n",
       "      <td>SIGN PERMIT</td>\n",
       "      <td>2014-02-24T00:00:00.000</td>\n",
       "      <td>8.0</td>\n",
       "    </tr>\n",
       "    <tr>\n",
       "      <th>1</th>\n",
       "      <td>PERMIT - SIGNS</td>\n",
       "      <td>SIGN PERMIT</td>\n",
       "      <td>2013-11-18T00:00:00.000</td>\n",
       "      <td>31.0</td>\n",
       "    </tr>\n",
       "    <tr>\n",
       "      <th>2</th>\n",
       "      <td>PERMIT - SIGNS</td>\n",
       "      <td>SIGN PERMIT</td>\n",
       "      <td>2013-11-18T00:00:00.000</td>\n",
       "      <td>31.0</td>\n",
       "    </tr>\n",
       "    <tr>\n",
       "      <th>3</th>\n",
       "      <td>PERMIT - ELECTRIC WIRING</td>\n",
       "      <td>EASY PERMIT WEB</td>\n",
       "      <td>2017-01-25T00:00:00.000</td>\n",
       "      <td>0.0</td>\n",
       "    </tr>\n",
       "    <tr>\n",
       "      <th>4</th>\n",
       "      <td>PERMIT - ELECTRIC WIRING</td>\n",
       "      <td>EASY PERMIT WEB</td>\n",
       "      <td>2007-02-15T00:00:00.000</td>\n",
       "      <td>0.0</td>\n",
       "    </tr>\n",
       "  </tbody>\n",
       "</table>\n",
       "</div>"
      ],
      "text/plain": [
       "                PERMIT_TYPE      REVIEW_TYPE   APPLICATION_START_DATE  \\\n",
       "0            PERMIT - SIGNS      SIGN PERMIT  2014-02-24T00:00:00.000   \n",
       "1            PERMIT - SIGNS      SIGN PERMIT  2013-11-18T00:00:00.000   \n",
       "2            PERMIT - SIGNS      SIGN PERMIT  2013-11-18T00:00:00.000   \n",
       "3  PERMIT - ELECTRIC WIRING  EASY PERMIT WEB  2017-01-25T00:00:00.000   \n",
       "4  PERMIT - ELECTRIC WIRING  EASY PERMIT WEB  2007-02-15T00:00:00.000   \n",
       "\n",
       "   PROCESSING_TIME  \n",
       "0              8.0  \n",
       "1             31.0  \n",
       "2             31.0  \n",
       "3              0.0  \n",
       "4              0.0  "
      ]
     },
     "execution_count": 32,
     "metadata": {},
     "output_type": "execute_result"
    }
   ],
   "source": [
    "df = df.drop(columns=['ID', 'PERMIT#', 'ISSUE_DATE','STREET_NUMBER', 'STREET DIRECTION', 'STREET_NAME', 'SUFFIX', 'WORK_DESCRIPTION', 'BUILDING_FEE_PAID', 'ZONING_FEE_PAID', 'OTHER_FEE_PAID', 'SUBTOTAL_PAID', 'BUILDING_FEE_UNPAID', 'ZONING_FEE_UNPAID', 'OTHER_FEE_UNPAID', 'SUBTOTAL_UNPAID', 'BUILDING_FEE_WAIVED', 'ZONING_FEE_WAIVED', 'OTHER_FEE_WAIVED', 'SUBTOTAL_WAIVED', 'TOTAL_FEE', 'CONTACT_1_TYPE', 'CONTACT_1_NAME', 'CONTACT_1_CITY', 'CONTACT_1_STATE', 'CONTACT_1_ZIPCODE', 'CONTACT_2_TYPE', 'CONTACT_2_NAME', 'CONTACT_2_CITY', 'CONTACT_2_STATE', 'CONTACT_2_ZIPCODE', 'CONTACT_3_TYPE', 'CONTACT_3_NAME', 'CONTACT_3_CITY', 'CONTACT_3_STATE', 'CONTACT_3_ZIPCODE', 'CONTACT_4_TYPE', 'CONTACT_4_NAME', 'CONTACT_4_CITY', 'CONTACT_4_STATE', 'CONTACT_4_ZIPCODE', 'CONTACT_5_TYPE', 'CONTACT_5_NAME', 'CONTACT_5_CITY', 'CONTACT_5_STATE', 'CONTACT_5_ZIPCODE', 'CONTACT_6_TYPE', 'CONTACT_6_NAME', 'CONTACT_6_CITY', 'CONTACT_6_STATE', 'CONTACT_6_ZIPCODE', 'CONTACT_7_TYPE', 'CONTACT_7_NAME', 'CONTACT_7_CITY', 'CONTACT_7_STATE', 'CONTACT_7_ZIPCODE', 'CONTACT_8_TYPE', 'CONTACT_8_NAME', 'CONTACT_8_CITY', 'CONTACT_8_STATE', 'CONTACT_8_ZIPCODE', 'CONTACT_9_TYPE', 'CONTACT_9_NAME', 'CONTACT_9_CITY', 'CONTACT_9_STATE', 'CONTACT_9_ZIPCODE', 'CONTACT_10_TYPE', 'CONTACT_10_NAME', 'CONTACT_10_CITY', 'CONTACT_10_STATE', 'CONTACT_10_ZIPCODE', 'CONTACT_11_TYPE', 'CONTACT_11_NAME', 'CONTACT_11_CITY', 'CONTACT_11_STATE', 'CONTACT_11_ZIPCODE', 'CONTACT_12_TYPE', 'CONTACT_12_NAME', 'CONTACT_12_CITY', 'CONTACT_12_STATE', 'CONTACT_12_ZIPCODE', 'CONTACT_13_TYPE', 'CONTACT_13_NAME', 'CONTACT_13_CITY', 'CONTACT_13_STATE', 'CONTACT_13_ZIPCODE', 'CONTACT_14_TYPE', 'CONTACT_14_NAME', 'CONTACT_14_CITY', 'CONTACT_14_STATE', 'CONTACT_14_ZIPCODE', 'CONTACT_15_TYPE', 'CONTACT_15_NAME', 'CONTACT_15_CITY', 'CONTACT_15_STATE', 'CONTACT_15_ZIPCODE', 'REPORTED_COST', 'PIN1', 'PIN2', 'PIN3', 'PIN4', 'PIN5', 'PIN6', 'PIN7', 'PIN8', 'PIN9', 'PIN10', 'COMMUNITY_AREA', 'CENSUS_TRACT', 'WARD', 'XCOORDINATE', 'YCOORDINATE', 'LATITUDE', 'LONGITUDE', 'LOCATION', 'Boundaries - ZIP Codes', 'Community Areas', 'Zip Codes', 'Census Tracts', 'Wards', ':@computed_region_awaf_s7ux'])\n",
    "df.head()"
   ]
  },
  {
   "cell_type": "markdown",
   "id": "analyzed-polyester",
   "metadata": {},
   "source": [
    "I know I must get rid of null values in the processing time column, seems as if I do not have any."
   ]
  },
  {
   "cell_type": "code",
   "execution_count": 33,
   "id": "personalized-acting",
   "metadata": {
    "scrolled": true
   },
   "outputs": [
    {
     "name": "stdout",
     "output_type": "stream",
     "text": [
      "(606390, 4)\n",
      "Do I have any null values in my dataframe, if so, how many\n",
      "True\n",
      "1006\n",
      "Do I have any null values in my Column of interest, if so, how many\n",
      "True\n",
      "500\n",
      "Lets hope this is false\n",
      "False\n",
      "(605890, 4)\n"
     ]
    }
   ],
   "source": [
    "print(df.shape)\n",
    "def find_null(col):\n",
    "    print('Do I have any null values in my dataframe, if so, how many')\n",
    "    print(df.isnull().values.any())\n",
    "    print(df.isnull().sum().sum())\n",
    "    print('Do I have any null values in my Column of interest, if so, how many')\n",
    "    print(df[col].isnull().values.any())\n",
    "    print(df[col].isnull().sum())\n",
    "\n",
    "find_null('PROCESSING_TIME')\n",
    "df = df[df['PROCESSING_TIME'].notna()]\n",
    "print('Lets hope this is false')\n",
    "print(df['PROCESSING_TIME'].isnull().values.any())\n",
    "print(df.shape)\n",
    "    # df.dropna(inplace=True)\n",
    "    # print(df['PROCESSING_TIME'].isnull().values.any())"
   ]
  },
  {
   "cell_type": "markdown",
   "id": "fixed-declaration",
   "metadata": {},
   "source": [
    "I will try to create a histogram of this data,  I will restrict it to positive numbers and cut it off at 500, there are not many data points out here."
   ]
  },
  {
   "cell_type": "code",
   "execution_count": 34,
   "id": "subject-material",
   "metadata": {
    "scrolled": true
   },
   "outputs": [
    {
     "data": {
      "image/png": "[encoded data removed]",
      "text/plain": [
       "<Figure size 432x288 with 2 Axes>"
      ]
     },
     "metadata": {
      "needs_background": "light"
     },
     "output_type": "display_data"
    }
   ],
   "source": [
    "plt.subplot(1,2,1)\n",
    "plt.hist(S,range=(0,500))\n",
    "plt.subplot(1,2,2)\n",
    "x = plt.boxplot(S)"
   ]
  },
  {
   "cell_type": "markdown",
   "id": "coastal-stock",
   "metadata": {},
   "source": [
    "This did not plot, maybe the data is too weird, we have negative numbers, most quartiles are 0 and mean is only 8.  Let's Investigate, I have 500 rows with nan, lets purge."
   ]
  },
  {
   "cell_type": "code",
   "execution_count": 35,
   "id": "durable-yellow",
   "metadata": {
    "scrolled": true
   },
   "outputs": [
    {
     "name": "stdout",
     "output_type": "stream",
     "text": [
      "The length of S is: 606390\n",
      "True\n",
      "False\n",
      "The length of S is: 605890\n"
     ]
    }
   ],
   "source": [
    "print('The length of S is: ' + str(len(S)))\n",
    "print(S.isnull().values.any())\n",
    "S.dropna(inplace=True)\n",
    "print(S.isnull().values.any())\n",
    "print('The length of S is: ' + str(len(S)))"
   ]
  },
  {
   "cell_type": "code",
   "execution_count": 36,
   "id": "occasional-injection",
   "metadata": {
    "scrolled": true
   },
   "outputs": [
    {
     "data": {
      "image/png": "[encoded data removed]",
      "text/plain": [
       "<Figure size 432x288 with 2 Axes>"
      ]
     },
     "metadata": {
      "needs_background": "light"
     },
     "output_type": "display_data"
    }
   ],
   "source": [
    "plt.subplot(1,2,1)\n",
    "plt.hist(S,range=(0,500))\n",
    "plt.subplot(1,2,2)\n",
    "x=plt.boxplot(S)"
   ]
  },
  {
   "cell_type": "markdown",
   "id": "integral-celtic",
   "metadata": {},
   "source": [
    "Here what we have is an IQR that is 8, very small and we get circles for the other data points.  Circles are outliers."
   ]
  },
  {
   "cell_type": "code",
   "execution_count": 37,
   "id": "personal-logging",
   "metadata": {
    "scrolled": true
   },
   "outputs": [
    {
     "name": "stdout",
     "output_type": "stream",
     "text": [
      "{'PERMIT - ELEVATOR EQUIPMENT', 'PERMIT - REINSTATE REVOKED PMT', 'PERMIT - RENOVATION/ALTERATION', 'PERMIT - SCAFFOLDING', 'PERMIT - ELECTRIC WIRING', 'PERMIT - SIGNS', 'PERMIT - EASY PERMIT PROCESS', 'PERMIT - FOR EXTENSION OF PMT', 'PERMIT - WRECKING/DEMOLITION', 'PERMIT - NEW CONSTRUCTION', 'PERMIT - PORCH CONSTRUCTION'}\n"
     ]
    }
   ],
   "source": [
    "#x = df['REVIEW_TYPE'].to_list()\n",
    "x = df['PERMIT_TYPE'].to_list()\n",
    "xs = set(x)\n",
    "print(xs)"
   ]
  },
  {
   "cell_type": "code",
   "execution_count": 38,
   "id": "palestinian-initial",
   "metadata": {
    "scrolled": true
   },
   "outputs": [],
   "source": [
    "df_elev = df.loc[df['PERMIT_TYPE'] == 'PERMIT - ELEVATOR EQUIPMENT']\n",
    "df_revoke = df.loc[df['PERMIT_TYPE'] == 'PERMIT - REINSTATE REVOKED PMT']\n",
    "df_renov = df.loc[df['PERMIT_TYPE'] == 'PERMIT - RENOVATION/ALTERATION']\n",
    "df_scaffold = df.loc[df['PERMIT_TYPE'] == 'PERMIT - SCAFFOLDING']\n",
    "df_wire = df.loc[df['PERMIT_TYPE'] == 'PERMIT - ELECTRIC WIRING']\n",
    "df_sign = df.loc[df['PERMIT_TYPE'] == 'PERMIT - SIGNS']\n",
    "df_easy = df.loc[df['PERMIT_TYPE'] == 'PERMIT - EASY PERMIT PROCESS']\n",
    "df_ext = df.loc[df['PERMIT_TYPE'] == 'PERMIT - FOR EXTENSION OF PMT']\n",
    "df_demo = df.loc[df['PERMIT_TYPE'] == 'PERMIT - WRECKING/DEMOLITION']\n",
    "df_newcon = df.loc[df['PERMIT_TYPE'] == 'PERMIT - NEW CONSTRUCTION']\n",
    "#df_newcon.head()\n",
    "df_porch = df.loc[df['PERMIT_TYPE'] == 'PERMIT - PORCH CONSTRUCTION']"
   ]
  },
  {
   "cell_type": "code",
   "execution_count": 42,
   "id": "approximate-coral",
   "metadata": {
    "scrolled": true
   },
   "outputs": [
    {
     "data": {
      "image/png": "[encoded data removed]",
      "text/plain": [
       "<Figure size 432x288 with 2 Axes>"
      ]
     },
     "metadata": {
      "needs_background": "light"
     },
     "output_type": "display_data"
    }
   ],
   "source": [
    "# ======================================================= Elevator Equipment\n",
    "plt.subplot(1,2,1)\n",
    "plt.hist(df_elev['PROCESSING_TIME'],range=(0,500))\n",
    "plt.subplot(1,2,2)\n",
    "x = plt.boxplot(df_elev['PROCESSING_TIME'])\n",
    "\n",
    "\n",
    "\n",
    "\n",
    "\n",
    "# plt.subplot(11,2,11)\n",
    "# plt.hist(df_newcon['PROCESSING_TIME'],range=(0,500))\n",
    "# plt.subplot(11,2,12)\n",
    "# x = plt.boxplot(df_newcon['PROCESSING_TIME'])\n",
    "\n",
    "# plt.subplot(11,2,11)\n",
    "# plt.hist(df_porch['PROCESSING_TIME'],range=(0,500))\n",
    "# plt.subplot(11,2,12)\n",
    "# x = plt.boxplot(df_porch['PROCESSING_TIME'])\n"
   ]
  },
  {
   "cell_type": "code",
   "execution_count": 43,
   "id": "thousand-booth",
   "metadata": {
    "scrolled": false
   },
   "outputs": [
    {
     "data": {
      "image/png": "[encoded data removed]",
      "text/plain": [
       "<Figure size 432x288 with 2 Axes>"
      ]
     },
     "metadata": {
      "needs_background": "light"
     },
     "output_type": "display_data"
    }
   ],
   "source": [
    "# ======================================================= Reinstate Revoked Permit\n",
    "plt.subplot(1,2,1)\n",
    "plt.hist(df_revoke['PROCESSING_TIME'],range=(0,500))\n",
    "plt.subplot(1,2,2)\n",
    "x = plt.boxplot(df_revoke['PROCESSING_TIME'])"
   ]
  },
  {
   "cell_type": "code",
   "execution_count": 44,
   "id": "common-grave",
   "metadata": {},
   "outputs": [
    {
     "data": {
      "image/png": "[encoded data removed]",
      "text/plain": [
       "<Figure size 432x288 with 2 Axes>"
      ]
     },
     "metadata": {
      "needs_background": "light"
     },
     "output_type": "display_data"
    }
   ],
   "source": [
    "# ======================================================= Renovation / ALteration\n",
    "plt.subplot(1,2,1)\n",
    "plt.hist(df_renov['PROCESSING_TIME'],range=(0,500))\n",
    "plt.subplot(1,2,2)\n",
    "x = plt.boxplot(df_renov['PROCESSING_TIME'])"
   ]
  },
  {
   "cell_type": "code",
   "execution_count": 45,
   "id": "analyzed-nylon",
   "metadata": {},
   "outputs": [
    {
     "data": {
      "image/png": "[encoded data removed]",
      "text/plain": [
       "<Figure size 432x288 with 2 Axes>"
      ]
     },
     "metadata": {
      "needs_background": "light"
     },
     "output_type": "display_data"
    }
   ],
   "source": [
    "# ======================================================= Scaffolding\n",
    "plt.subplot(1,2,1)\n",
    "plt.hist(df_scaffold['PROCESSING_TIME'],range=(0,500))\n",
    "plt.subplot(1,2,2)\n",
    "x = plt.boxplot(df_scaffold['PROCESSING_TIME'])"
   ]
  },
  {
   "cell_type": "code",
   "execution_count": 46,
   "id": "extended-military",
   "metadata": {},
   "outputs": [
    {
     "data": {
      "image/png": "[encoded data removed]",
      "text/plain": [
       "<Figure size 432x288 with 2 Axes>"
      ]
     },
     "metadata": {
      "needs_background": "light"
     },
     "output_type": "display_data"
    }
   ],
   "source": [
    "# ======================================================= Electric Wiring\n",
    "plt.subplot(1,2,1)\n",
    "plt.hist(df_wire['PROCESSING_TIME'],range=(0,500))\n",
    "plt.subplot(1,2,2)\n",
    "x = plt.boxplot(df_wire['PROCESSING_TIME'])"
   ]
  },
  {
   "cell_type": "code",
   "execution_count": 47,
   "id": "commercial-fantasy",
   "metadata": {},
   "outputs": [
    {
     "data": {
      "image/png": "[encoded data removed]",
      "text/plain": [
       "<Figure size 432x288 with 2 Axes>"
      ]
     },
     "metadata": {
      "needs_background": "light"
     },
     "output_type": "display_data"
    }
   ],
   "source": [
    "# ======================================================= Sign\n",
    "plt.subplot(1,2,1)\n",
    "plt.hist(df_sign['PROCESSING_TIME'],range=(0,500))\n",
    "plt.subplot(1,2,2)\n",
    "x = plt.boxplot(df_sign['PROCESSING_TIME'])"
   ]
  },
  {
   "cell_type": "code",
   "execution_count": 48,
   "id": "theoretical-reward",
   "metadata": {},
   "outputs": [
    {
     "data": {
      "image/png": "[encoded data removed]",
      "text/plain": [
       "<Figure size 432x288 with 2 Axes>"
      ]
     },
     "metadata": {
      "needs_background": "light"
     },
     "output_type": "display_data"
    }
   ],
   "source": [
    "# ======================================================= Easy Permit Process\n",
    "plt.subplot(1,2,1)\n",
    "plt.hist(df_easy['PROCESSING_TIME'],range=(0,500))\n",
    "plt.subplot(1,2,2)\n",
    "x = plt.boxplot(df_easy['PROCESSING_TIME'])"
   ]
  },
  {
   "cell_type": "code",
   "execution_count": 49,
   "id": "acute-rabbit",
   "metadata": {},
   "outputs": [
    {
     "data": {
      "image/png": "[encoded data removed]",
      "text/plain": [
       "<Figure size 432x288 with 2 Axes>"
      ]
     },
     "metadata": {
      "needs_background": "light"
     },
     "output_type": "display_data"
    }
   ],
   "source": [
    "# ======================================================= For Extension of Pmt\n",
    "plt.subplot(1,2,1)\n",
    "plt.hist(df_ext['PROCESSING_TIME'],range=(0,500))\n",
    "plt.subplot(1,2,2)\n",
    "x = plt.boxplot(df_ext['PROCESSING_TIME'])"
   ]
  },
  {
   "cell_type": "code",
   "execution_count": 50,
   "id": "professional-depression",
   "metadata": {},
   "outputs": [
    {
     "data": {
      "image/png": "[encoded data removed]",
      "text/plain": [
       "<Figure size 432x288 with 2 Axes>"
      ]
     },
     "metadata": {
      "needs_background": "light"
     },
     "output_type": "display_data"
    }
   ],
   "source": [
    "# ======================================================= Wrecking / Demolition\n",
    "plt.subplot(1,2,1)\n",
    "plt.hist(df_demo['PROCESSING_TIME'],range=(0,500))\n",
    "plt.subplot(1,2,2)\n",
    "x = plt.boxplot(df_demo['PROCESSING_TIME'])"
   ]
  },
  {
   "cell_type": "code",
   "execution_count": 51,
   "id": "sapphire-tractor",
   "metadata": {},
   "outputs": [
    {
     "data": {
      "image/png": "[encoded data removed]",
      "text/plain": [
       "<Figure size 432x288 with 2 Axes>"
      ]
     },
     "metadata": {
      "needs_background": "light"
     },
     "output_type": "display_data"
    }
   ],
   "source": [
    "# ======================================================= New Construction\n",
    "plt.subplot(1,2,1)\n",
    "plt.hist(df_newcon['PROCESSING_TIME'],range=(0,500))\n",
    "plt.subplot(1,2,2)\n",
    "x = plt.boxplot(df_newcon['PROCESSING_TIME'])"
   ]
  },
  {
   "cell_type": "code",
   "execution_count": 53,
   "id": "adaptive-cruise",
   "metadata": {},
   "outputs": [
    {
     "data": {
      "text/plain": [
       "count    22419.000000\n",
       "mean        37.902047\n",
       "std         74.344358\n",
       "min       -201.000000\n",
       "25%          0.000000\n",
       "50%          8.000000\n",
       "75%         45.000000\n",
       "max       1421.000000\n",
       "Name: PROCESSING_TIME, dtype: float64"
      ]
     },
     "execution_count": 53,
     "metadata": {},
     "output_type": "execute_result"
    }
   ],
   "source": [
    "df_newcon['PROCESSING_TIME'].describe()"
   ]
  },
  {
   "cell_type": "code",
   "execution_count": 52,
   "id": "proud-senegal",
   "metadata": {},
   "outputs": [
    {
     "data": {
      "image/png": "[encoded data removed]",
      "text/plain": [
       "<Figure size 432x288 with 2 Axes>"
      ]
     },
     "metadata": {
      "needs_background": "light"
     },
     "output_type": "display_data"
    }
   ],
   "source": [
    "# ======================================================= Porch Construction\n",
    "plt.subplot(1,2,1)\n",
    "plt.hist(df_porch['PROCESSING_TIME'],range=(0,500))\n",
    "plt.subplot(1,2,2)\n",
    "x = plt.boxplot(df_porch['PROCESSING_TIME'])"
   ]
  },
  {
   "cell_type": "markdown",
   "id": "failing-marriage",
   "metadata": {},
   "source": [
    "Do these plots make sense?  I Feels like there are alot of outliers"
   ]
  },
  {
   "cell_type": "markdown",
   "id": "olympic-liberal",
   "metadata": {},
   "source": [
    "I would like to know the percentage of outliers to the total data points.  First I should do this exercise for the other types of building permits."
   ]
  },
  {
   "cell_type": "code",
   "execution_count": 55,
   "id": "assigned-baseline",
   "metadata": {
    "scrolled": true
   },
   "outputs": [
    {
     "data": {
      "image/png": "[encoded data removed]",
      "text/plain": [
       "<Figure size 432x288 with 1 Axes>"
      ]
     },
     "metadata": {
      "needs_background": "light"
     },
     "output_type": "display_data"
    }
   ],
   "source": [
    "#==============================================================================   Simple Examples to start from.\n",
    "t = plt.boxplot([1,2,2,15,3,4,5,5,5,5,6,8,7,1],vert=False)"
   ]
  },
  {
   "cell_type": "code",
   "execution_count": 57,
   "id": "nonprofit-confidence",
   "metadata": {
    "scrolled": true
   },
   "outputs": [
    {
     "data": {
      "text/plain": [
       "count    14.000000\n",
       "mean      4.928571\n",
       "std       3.604789\n",
       "min       1.000000\n",
       "25%       2.250000\n",
       "50%       5.000000\n",
       "75%       5.750000\n",
       "max      15.000000\n",
       "dtype: float64"
      ]
     },
     "execution_count": 57,
     "metadata": {},
     "output_type": "execute_result"
    }
   ],
   "source": [
    "T = pd.Series(index=range(14), data=[1,2,2,15,3,4,5,5,5,5,6,8,7,1])\n",
    "T.describe()"
   ]
  },
  {
   "cell_type": "code",
   "execution_count": null,
   "id": "adjacent-crazy",
   "metadata": {
    "collapsed": true,
    "scrolled": true
   },
   "outputs": [],
   "source": []
  }
 ],
 "metadata": {
  "kernelspec": {
   "display_name": "Python 3",
   "language": "python",
   "name": "python3"
  },
  "language_info": {
   "codemirror_mode": {
    "name": "ipython",
    "version": 3
   },
   "file_extension": ".py",
   "mimetype": "text/x-python",
   "name": "python",
   "nbconvert_exporter": "python",
   "pygments_lexer": "ipython3",
   "version": "3.6.12"
  }
 },
 "nbformat": 4,
 "nbformat_minor": 5
}
